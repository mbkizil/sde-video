{
 "cells": [
  {
   "cell_type": "code",
   "execution_count": null,
   "id": "a8a58b78",
   "metadata": {},
   "outputs": [],
   "source": [
    "%load_ext autoreload\n",
    "%autoreload 2\n",
    "\n",
    "import jax\n",
    "import jax.numpy as jnp\n",
    "import numpy as onp\n",
    "import flax.linen as nn\n",
    "import matplotlib.pyplot as plt\n",
    "import optax\n",
    "import diffrax\n",
    "import distrax\n",
    "import sde.markov_approximation as ma\n",
    "from sde.models import FractionalSDE, VideoSDE, StaticFunction\n",
    "from sde import data\n",
    "from sde.util import NumpyLoader\n",
    "from moviepy.editor import ImageSequenceClip\n",
    "from torch.utils.data import DataLoader\n",
    "from tqdm import tqdm\n",
    "import pickle\n",
    "import typing\n",
    "import wandb\n",
    "import imageio\n",
    "import pandas as pd\n",
    "import seaborn as sns\n",
    "from sde.train import build_data_and_model, Drift, Diffusion, ControlFunction\n",
    "solver = diffrax.StratonovichMilstein()\n",
    "from sde.util import NumpyLoader\n",
    "\n",
    "def save_strip(v, path):\n",
    "    v = v.squeeze()\n",
    "    m = 2\n",
    "    num_frames = len(v)\n",
    "    canvas = onp.ones((64, num_frames * (64 + m) - m), dtype=onp.uint8) * 255\n",
    "    for f, frame in enumerate(v):\n",
    "        j0 = f * (64 + m)\n",
    "        j1 = j0 + 64\n",
    "        canvas[:, j0:j1] = (frame * 255).clip(0, 255).astype(onp.uint8)\n",
    "    imageio.imwrite(path, canvas)"
   ]
  },
  {
   "cell_type": "code",
   "execution_count": null,
   "id": "971c98a1",
   "metadata": {},
   "outputs": [],
   "source": [
    "api = wandb.Api()\n",
    "run_ids = [\n",
    "    # insert run paths here\n",
    "    # e.g. 'name/jax-mmnist/abcd1234',\n",
    "]\n",
    "runs = [{'run_id': run_id, 'run': api.run(run_id)} for run_id in run_ids]\n",
    "for run in runs:\n",
    "    run.update({'cfg': run['run'].config})"
   ]
  },
  {
   "cell_type": "code",
   "execution_count": null,
   "id": "34a818b0",
   "metadata": {},
   "outputs": [],
   "source": [
    "def get_model_and_params(run):\n",
    "    cfg = run['cfg']\n",
    "    run['run'].file('params.p').download(replace=True)\n",
    "    with open('params.p', 'rb') as f:\n",
    "        params = pickle.load(f)\n",
    "\n",
    "    ts, dt, data_train, data_val, model, _ = build_data_and_model(\n",
    "        cfg['dataset'],\n",
    "        cfg['white'],\n",
    "        cfg['num_latents'],\n",
    "        cfg['num_contents'],\n",
    "        cfg['num_features'],\n",
    "        cfg['num_k'],\n",
    "        cfg['gamma_max'],\n",
    "        cfg['int_sub_steps'],\n",
    "    )\n",
    "    if cfg['white']:\n",
    "        num_k = 1\n",
    "        gamma = None\n",
    "        hurst = - 1\n",
    "    else:\n",
    "        num_k = cfg['num_k']\n",
    "        gamma = ma.gamma_by_gamma_max(cfg['num_k'], cfg['gamma_max'])\n",
    "        hurst = None\n",
    "    run.update({\n",
    "        'params': params,\n",
    "        'ts': ts,\n",
    "        'dt': dt,\n",
    "        'data_train': data_train,\n",
    "        'data_val': data_val,\n",
    "        'model': model,\n",
    "        'num_k': num_k,\n",
    "        'gamma': gamma,\n",
    "        'hurst': hurst,\n",
    "    })\n",
    "for run in runs:\n",
    "    get_model_and_params(run)\n",
    "\n",
    "data_val = runs[0]['data_val'] # use the same validation set"
   ]
  },
  {
   "cell_type": "markdown",
   "id": "f37ce363",
   "metadata": {},
   "source": [
    "### Validation ELBO"
   ]
  },
  {
   "cell_type": "code",
   "execution_count": null,
   "id": "712177e6",
   "metadata": {},
   "outputs": [],
   "source": [
    "dataloader = NumpyLoader(data_val, batch_size=32, shuffle=True, num_workers=8, drop_last=True)\n",
    "\n",
    "def calculate_validation_elbo(run, model, params, ts, dt, **kwargs):\n",
    "    def loss_fn(params, key, frames):\n",
    "        frames_, (kl_x0, logpath) = model(params, key, ts, frames, dt, solver)\n",
    "        nll = ((frames - frames_) ** 2).sum()\n",
    "        loss = nll + 1. * (kl_x0 + logpath)\n",
    "        return loss, (nll, kl_x0, logpath)\n",
    "    @jax.jit\n",
    "    def batched_loss_fn(params, key, frames):\n",
    "        keys = jax.random.split(key, 32)\n",
    "        loss, aux = jax.vmap(loss_fn, (None, 0, 0))(params, keys, frames)\n",
    "        return loss.mean(), jax.tree_util.tree_map(jnp.mean, aux)\n",
    "\n",
    "    random_key = jax.random.PRNGKey(7)\n",
    "    elbos = []\n",
    "    for frames in tqdm(dataloader):\n",
    "        random_key, key = jax.random.split(random_key, 2)\n",
    "        elbo, aux = batched_loss_fn(params, key, frames)\n",
    "        elbos.append(elbo)\n",
    "    print(run.id, onp.mean(elbos))\n",
    "\n",
    "for run in runs:\n",
    "    calculate_validation_elbo(**run)"
   ]
  },
  {
   "cell_type": "markdown",
   "id": "6b81488f",
   "metadata": {},
   "source": [
    "### Inference on validation set"
   ]
  },
  {
   "cell_type": "code",
   "execution_count": null,
   "id": "01c39009",
   "metadata": {},
   "outputs": [],
   "source": [
    "i = 1\n",
    "key = jax.random.PRNGKey(7)\n",
    "frames = data_val[i]\n",
    "\n",
    "def inference(run, cfg, model, params, ts, dt, **kwargs):\n",
    "    print(run.id, cfg)\n",
    "    frames_, _ = model(params, key, ts, frames, dt, diffrax.StratonovichMilstein())\n",
    "\n",
    "    save_strip(frames[::1], f'strips/{i}_true.png')\n",
    "    save_strip(frames_[::1], f'strips/{i}_posterior_{run.id}.png')\n",
    "    v = jnp.concatenate([frames, frames_], axis=2)\n",
    "    v = (v * 255).clip(0, 255).astype(onp.uint8).repeat(3, axis=-1)\n",
    "    return ImageSequenceClip(list(v), fps=5).ipython_display()"
   ]
  },
  {
   "cell_type": "code",
   "execution_count": null,
   "id": "17f3f08c",
   "metadata": {},
   "outputs": [],
   "source": [
    "inference(**runs[0])"
   ]
  },
  {
   "cell_type": "code",
   "execution_count": null,
   "id": "ac8e8569",
   "metadata": {},
   "outputs": [],
   "source": [
    "inference(**runs[1])"
   ]
  },
  {
   "cell_type": "markdown",
   "id": "6d2824ed",
   "metadata": {},
   "source": [
    "### Prior Model"
   ]
  },
  {
   "cell_type": "code",
   "execution_count": null,
   "id": "023e7ffe",
   "metadata": {},
   "outputs": [],
   "source": [
    "# condition on\n",
    "i = 3\n",
    "frames = data_val[i]"
   ]
  },
  {
   "cell_type": "code",
   "execution_count": null,
   "id": "91f486b1",
   "metadata": {},
   "outputs": [],
   "source": [
    "# this block will use the 'frames' from the block above, i.e. it conditions on that.\n",
    "\n",
    "def prior_predictions(run, model, params, hurst, ts, dt, cfg, gamma, **kwargs):\n",
    "    num_samples = 4\n",
    "    random_key = jax.random.PRNGKey(42)\n",
    "\n",
    "    h = model.encoder(params, frames)\n",
    "    w = model.content(params, h)\n",
    "    x0_posterior, h = model.infer(params, h)\n",
    "    key, random_key = jax.random.split(random_key, 2)\n",
    "    x0 = x0_posterior.sample(seed=key, sample_shape=(num_samples,))\n",
    "\n",
    "    b = Drift(cfg['num_latents'])\n",
    "    u = StaticFunction(lambda *args: jnp.zeros(cfg['num_latents']))\n",
    "    s = Diffusion(cfg['num_latents'])\n",
    "    sde = FractionalSDE(b, u, s, gamma, hurst=hurst, type=1, time_horizon=ts[-1], num_latents=cfg['num_latents'])\n",
    "    x0_prior = distrax.MultivariateNormalDiag(jnp.zeros(cfg['num_latents']), jnp.ones(cfg['num_latents']))\n",
    "    prior_model = VideoSDE(model.image_size, model.num_channels, cfg['num_features'], cfg['num_latents'], cfg['num_contents'], x0_prior, True, sde)\n",
    "\n",
    "    keys = jax.random.split(random_key, num_samples)\n",
    "    xs_prior, _ = jax.vmap(prior_model.sde, (None, 0, 0, None, None, None, None))(params, keys, x0, ts, dt, solver, {})\n",
    "    w_t = w[None, :].repeat(len(ts), axis=0)\n",
    "    w_tb = w_t[None, :].repeat(num_samples, axis=0)\n",
    "    frames_prior = jax.vmap(prior_model.decoder, (None, 0))(params, jnp.concatenate([w_tb, xs_prior], axis=-1))\n",
    "\n",
    "    for s, sample in enumerate(frames_prior):\n",
    "        save_strip(sample[::1], f'strips/{i}_prediction_{run.id}_sample_{s}.png')\n",
    "    v = jnp.concatenate(frames_prior, axis=2)\n",
    "    v = (frames_prior * 255).clip(0, 255).astype(onp.uint8).repeat(3, axis=-1)\n",
    "    return v"
   ]
  },
  {
   "cell_type": "code",
   "execution_count": null,
   "id": "4ee402cf",
   "metadata": {},
   "outputs": [],
   "source": [
    "v = prior_predictions(**runs[0])\n",
    "ImageSequenceClip(list(v), fps=5).ipython_display()"
   ]
  },
  {
   "cell_type": "code",
   "execution_count": null,
   "id": "c59bcbbf",
   "metadata": {},
   "outputs": [],
   "source": [
    "v = prior_predictions(**runs[1])\n",
    "ImageSequenceClip(list(v), fps=5).ipython_display()"
   ]
  },
  {
   "cell_type": "markdown",
   "id": "32105b9f",
   "metadata": {},
   "source": [
    "### Best Prediction"
   ]
  },
  {
   "cell_type": "code",
   "execution_count": null,
   "id": "b5365cca",
   "metadata": {},
   "outputs": [],
   "source": [
    "# condition on\n",
    "i = 3\n",
    "frames = data_val[i]"
   ]
  },
  {
   "cell_type": "code",
   "execution_count": null,
   "id": "0311ff60",
   "metadata": {},
   "outputs": [],
   "source": [
    "class ControlFunctionMask(ControlFunction):\n",
    "    def __call__(self, params, t, x, y, args):\n",
    "        context = args['context']\n",
    "        h = jax.vmap(jnp.interp, (None, None, 1))(t, context['ts'], context['hs'])\n",
    "        output = self.mlp.apply(params, jnp.concatenate([x, y.flatten(), h], axis=-1))\n",
    "        return jnp.where(\n",
    "            t > context['ts'][-1],\n",
    "            jnp.zeros(self.num_latents),  # no control after context -> prior\n",
    "            output,\n",
    "        )\n",
    "\n",
    "def best_predictions(run, model, params, hurst, ts, dt, cfg, gamma, **kwargs):\n",
    "    num_samples = 5\n",
    "    num_conditioned = 5\n",
    "    random_key = jax.random.PRNGKey(42)\n",
    "\n",
    "    h = model.encoder(params, frames[:num_conditioned])\n",
    "    w = model.content(params, h)\n",
    "    x0_posterior, h = model.infer(params, h)\n",
    "    key, random_key = jax.random.split(random_key, 2)\n",
    "    x0 = x0_posterior.sample(seed=key, sample_shape=(num_samples,))\n",
    "    context = {'ts': ts[:num_conditioned], 'hs': h}\n",
    "\n",
    "    b = Drift(cfg['num_latents'])\n",
    "    u = ControlFunctionMask(cfg['num_k'], cfg['num_latents'], cfg['num_features'])\n",
    "    s = Diffusion(cfg['num_latents'])\n",
    "    sde = FractionalSDE(b, u, s, gamma, hurst=hurst, type=1, time_horizon=ts[-1], num_latents=cfg['num_latents'])\n",
    "    x0_prior = distrax.MultivariateNormalDiag(jnp.zeros(cfg['num_latents']), jnp.ones(cfg['num_latents']))\n",
    "    prior_model = VideoSDE(model.image_size, model.num_channels, cfg['num_features'], cfg['num_latents'], cfg['num_contents'], x0_prior, True, sde)\n",
    "\n",
    "    keys = jax.random.split(random_key, num_samples)\n",
    "    xs_prior, _ = jax.vmap(prior_model.sde, (None, 0, 0, None, None, None, None))(params, keys, x0, ts, dt, solver, {'context': context})\n",
    "    w_t = w[None, :].repeat(len(ts), axis=0)\n",
    "    w_tb = w_t[None, :].repeat(num_samples, axis=0)\n",
    "    frames_pred = jax.vmap(prior_model.decoder, (None, 0))(params, jnp.concatenate([w_tb, xs_prior], axis=-1))\n",
    "    return frames_pred"
   ]
  },
  {
   "cell_type": "code",
   "execution_count": null,
   "id": "f23e44b3",
   "metadata": {},
   "outputs": [],
   "source": [
    "frames_pred = best_predictions(**runs[0])\n",
    "errors = ((frames[None] - frames_pred) ** 2).sum(axis=(1, 2, 3, 4))\n",
    "best_i = jnp.argmin(errors)\n",
    "v = jnp.concatenate([frames, frames_pred[best_i]], axis=1)\n",
    "v = (v * 255).clip(0, 255).astype(onp.uint8).repeat(3, axis=-1)\n",
    "ImageSequenceClip(list(v), fps=5).ipython_display()"
   ]
  },
  {
   "cell_type": "code",
   "execution_count": null,
   "id": "ad8c1c23",
   "metadata": {
    "scrolled": false
   },
   "outputs": [],
   "source": [
    "frames_pred = best_predictions(**runs[1])\n",
    "errors = ((frames[None] - frames_pred) ** 2).sum(axis=(1, 2, 3, 4))\n",
    "best_i = jnp.argmin(errors)\n",
    "v = jnp.concatenate([frames, frames_pred[best_i]], axis=1)\n",
    "v = (v * 255).clip(0, 255).astype(onp.uint8).repeat(3, axis=-1)\n",
    "ImageSequenceClip(list(v), fps=5).ipython_display()"
   ]
  },
  {
   "cell_type": "code",
   "execution_count": null,
   "id": "89e74504",
   "metadata": {},
   "outputs": [],
   "source": [
    "def get_calculate_error_fn(run, model, params, hurst, ts, dt, cfg, gamma, **kwargs):\n",
    "    num_samples = 100\n",
    "    num_conditioned = 5\n",
    "\n",
    "    @jax.jit\n",
    "    def calculate_error(frames, key):\n",
    "        keys = jax.random.split(key, 2)\n",
    "        h = model.encoder(params, frames[:num_conditioned])\n",
    "        w = model.content(params, h)\n",
    "        x0_posterior, h = model.infer(params, h)\n",
    "        x0 = x0_posterior.sample(seed=keys[0], sample_shape=(num_samples,))\n",
    "        context = {'ts': ts[:num_conditioned], 'hs': h}\n",
    "\n",
    "        b = Drift(cfg['num_latents'])\n",
    "        u = ControlFunctionMask(cfg['num_k'], cfg['num_latents'], cfg['num_features'])\n",
    "        s = Diffusion(cfg['num_latents'])\n",
    "        sde = FractionalSDE(b, u, s, gamma, hurst=hurst, type=1, time_horizon=ts[-1], num_latents=cfg['num_latents'])\n",
    "        x0_prior = distrax.MultivariateNormalDiag(jnp.zeros(cfg['num_latents']), jnp.ones(cfg['num_latents']))\n",
    "        prior_model = VideoSDE(model.image_size, model.num_channels, cfg['num_features'], cfg['num_latents'], cfg['num_contents'], x0_prior, True, sde)\n",
    "\n",
    "        keys = jax.random.split(keys[1], num_samples)\n",
    "        xs_prior, _ = jax.vmap(prior_model.sde, (None, 0, 0, None, None, None, None))(params, keys, x0, ts, dt, solver, {'context': context})\n",
    "        w_t = w[None, :].repeat(len(ts), axis=0)\n",
    "        w_tb = w_t[None, :].repeat(num_samples, axis=0)\n",
    "        frames_pred = jax.vmap(prior_model.decoder, (None, 0))(params, jnp.concatenate([w_tb, xs_prior], axis=-1))\n",
    "        errors = ((frames[None] - frames_pred) ** 2).mean(axis=(2, 3, 4))\n",
    "        errors = jnp.min(errors, axis=0) # take the best one per timestep\n",
    "        return errors\n",
    "    return calculate_error"
   ]
  },
  {
   "cell_type": "code",
   "execution_count": null,
   "id": "c49c3eef",
   "metadata": {
    "scrolled": true
   },
   "outputs": [],
   "source": [
    "random_key = jax.random.PRNGKey(7)\n",
    "error_fns = [get_calculate_error_fn(**run) for run in runs]\n",
    "\n",
    "df = []\n",
    "for i in tqdm(range(len(data_val))):\n",
    "    frames = data_val[i]\n",
    "    for run, error_fn in zip(runs, error_fns):\n",
    "        random_key, key = jax.random.split(random_key, 2)\n",
    "        errors = error_fn(frames, key)\n",
    "        for f, error in enumerate(errors):\n",
    "            df.append({\n",
    "                'data_i': i,\n",
    "                'model': run['run'].id,\n",
    "                'error': float(error),\n",
    "                'frame': float(f),\n",
    "                'white': run['cfg']['white'],\n",
    "            })\n",
    "df = pd.DataFrame(df)\n",
    "df['psnr'] = df.apply(lambda row: 10 * onp.log10(1/row.error), axis=1)"
   ]
  },
  {
   "cell_type": "code",
   "execution_count": null,
   "id": "784ef13f",
   "metadata": {},
   "outputs": [],
   "source": [
    "df.to_pickle('psnr.p')"
   ]
  },
  {
   "cell_type": "code",
   "execution_count": null,
   "id": "8215feac",
   "metadata": {
    "scrolled": false
   },
   "outputs": [],
   "source": [
    "g = sns.lineplot(df, x='frame', y='psnr', hue='white')\n",
    "g.set(xlim=(4, 25))\n",
    "g.set(ylim=(12, 24))"
   ]
  },
  {
   "cell_type": "code",
   "execution_count": null,
   "id": "0504e46a",
   "metadata": {},
   "outputs": [],
   "source": [
    "df_all_frames = df.groupby(['data_i', 'model'])['error'].mean()\n",
    "# df_all_frames['psnr'] = df_all_frames.apply(lambda row: 10 * onp.log10(1/), axis=1)"
   ]
  },
  {
   "cell_type": "code",
   "execution_count": null,
   "id": "4c51c45f",
   "metadata": {},
   "outputs": [],
   "source": [
    "df_all_frames_psnr = 10 * onp.log10(1/df_all_frames)\n",
    "df_all_frames_psnr.groupby('model').mean()"
   ]
  },
  {
   "cell_type": "code",
   "execution_count": null,
   "id": "1886b6b2",
   "metadata": {},
   "outputs": [],
   "source": [
    "df_all_frames_psnr.groupby('model').std()"
   ]
  }
 ],
 "metadata": {
  "kernelspec": {
   "display_name": "Python 3 (ipykernel)",
   "language": "python",
   "name": "python3"
  },
  "language_info": {
   "codemirror_mode": {
    "name": "ipython",
    "version": 3
   },
   "file_extension": ".py",
   "mimetype": "text/x-python",
   "name": "python",
   "nbconvert_exporter": "python",
   "pygments_lexer": "ipython3",
   "version": "3.10.12"
  }
 },
 "nbformat": 4,
 "nbformat_minor": 5
}
